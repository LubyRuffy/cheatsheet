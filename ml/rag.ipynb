{
 "cells": [
  {
   "cell_type": "markdown",
   "source": [
    "# rag实验\n",
    "\n",
    "## langchain"
   ],
   "metadata": {
    "collapsed": false
   },
   "id": "462143da031ca016"
  },
  {
   "cell_type": "markdown",
   "source": [],
   "metadata": {
    "collapsed": false
   },
   "id": "ca370e422af9b49a"
  },
  {
   "cell_type": "code",
   "outputs": [
    {
     "name": "stdout",
     "output_type": "stream",
     "text": [
      "Looking in indexes: https://pypi.tuna.tsinghua.edu.cn/simple\r\n",
      "Requirement already satisfied: langchain in /Users/zhaowu/anaconda3/envs/ml/lib/python3.11/site-packages (0.1.0)\r\n",
      "Requirement already satisfied: llama-cpp-python in /Users/zhaowu/anaconda3/envs/ml/lib/python3.11/site-packages (0.2.27)\r\n",
      "Requirement already satisfied: torch in /Users/zhaowu/anaconda3/envs/ml/lib/python3.11/site-packages (2.1.2)\r\n",
      "Requirement already satisfied: bitsandbytes in /Users/zhaowu/anaconda3/envs/ml/lib/python3.11/site-packages (0.41.3.post2)\r\n",
      "Requirement already satisfied: accelerate in /Users/zhaowu/anaconda3/envs/ml/lib/python3.11/site-packages (0.25.0)\r\n",
      "Collecting sentence_transformers\r\n",
      "  Downloading https://pypi.tuna.tsinghua.edu.cn/packages/20/9c/f07bd70d128fdb107bc02a0c702b9058b4fe147d0ba67b5a0f4c3cf15a54/sentence-transformers-2.2.2.tar.gz (85 kB)\r\n",
      "\u001B[2K     \u001B[90m━━━━━━━━━━━━━━━━━━━━━━━━━━━━━━━━━━━━━━━━\u001B[0m \u001B[32m86.0/86.0 kB\u001B[0m \u001B[31m3.7 MB/s\u001B[0m eta \u001B[36m0:00:00\u001B[0m\r\n",
      "\u001B[?25h  Preparing metadata (setup.py) ... \u001B[?25ldone\r\n",
      "\u001B[?25hRequirement already satisfied: PyYAML>=5.3 in /Users/zhaowu/anaconda3/envs/ml/lib/python3.11/site-packages (from langchain) (6.0.1)\r\n",
      "Requirement already satisfied: SQLAlchemy<3,>=1.4 in /Users/zhaowu/anaconda3/envs/ml/lib/python3.11/site-packages (from langchain) (2.0.25)\r\n",
      "Requirement already satisfied: aiohttp<4.0.0,>=3.8.3 in /Users/zhaowu/anaconda3/envs/ml/lib/python3.11/site-packages (from langchain) (3.9.1)\r\n",
      "Requirement already satisfied: dataclasses-json<0.7,>=0.5.7 in /Users/zhaowu/anaconda3/envs/ml/lib/python3.11/site-packages (from langchain) (0.6.3)\r\n",
      "Requirement already satisfied: jsonpatch<2.0,>=1.33 in /Users/zhaowu/anaconda3/envs/ml/lib/python3.11/site-packages (from langchain) (1.33)\r\n",
      "Requirement already satisfied: langchain-community<0.1,>=0.0.9 in /Users/zhaowu/anaconda3/envs/ml/lib/python3.11/site-packages (from langchain) (0.0.9)\r\n",
      "Requirement already satisfied: langchain-core<0.2,>=0.1.7 in /Users/zhaowu/anaconda3/envs/ml/lib/python3.11/site-packages (from langchain) (0.1.7)\r\n",
      "Requirement already satisfied: langsmith<0.1.0,>=0.0.77 in /Users/zhaowu/anaconda3/envs/ml/lib/python3.11/site-packages (from langchain) (0.0.77)\r\n",
      "Requirement already satisfied: numpy<2,>=1 in /Users/zhaowu/anaconda3/envs/ml/lib/python3.11/site-packages (from langchain) (1.26.2)\r\n",
      "Requirement already satisfied: pydantic<3,>=1 in /Users/zhaowu/anaconda3/envs/ml/lib/python3.11/site-packages (from langchain) (2.5.3)\r\n",
      "Requirement already satisfied: requests<3,>=2 in /Users/zhaowu/anaconda3/envs/ml/lib/python3.11/site-packages (from langchain) (2.31.0)\r\n",
      "Requirement already satisfied: tenacity<9.0.0,>=8.1.0 in /Users/zhaowu/anaconda3/envs/ml/lib/python3.11/site-packages (from langchain) (8.2.3)\r\n",
      "Requirement already satisfied: typing-extensions>=4.5.0 in /Users/zhaowu/anaconda3/envs/ml/lib/python3.11/site-packages (from llama-cpp-python) (4.9.0)\r\n",
      "Requirement already satisfied: diskcache>=5.6.1 in /Users/zhaowu/anaconda3/envs/ml/lib/python3.11/site-packages (from llama-cpp-python) (5.6.3)\r\n",
      "Requirement already satisfied: filelock in /Users/zhaowu/anaconda3/envs/ml/lib/python3.11/site-packages (from torch) (3.13.1)\r\n",
      "Requirement already satisfied: sympy in /Users/zhaowu/anaconda3/envs/ml/lib/python3.11/site-packages (from torch) (1.12)\r\n",
      "Requirement already satisfied: networkx in /Users/zhaowu/anaconda3/envs/ml/lib/python3.11/site-packages (from torch) (3.2.1)\r\n",
      "Requirement already satisfied: jinja2 in /Users/zhaowu/anaconda3/envs/ml/lib/python3.11/site-packages (from torch) (3.1.2)\r\n",
      "Requirement already satisfied: fsspec in /Users/zhaowu/anaconda3/envs/ml/lib/python3.11/site-packages (from torch) (2023.12.2)\r\n",
      "Requirement already satisfied: packaging>=20.0 in /Users/zhaowu/anaconda3/envs/ml/lib/python3.11/site-packages (from accelerate) (23.2)\r\n",
      "Requirement already satisfied: psutil in /Users/zhaowu/anaconda3/envs/ml/lib/python3.11/site-packages (from accelerate) (5.9.0)\r\n",
      "Requirement already satisfied: huggingface-hub in /Users/zhaowu/anaconda3/envs/ml/lib/python3.11/site-packages (from accelerate) (0.20.1)\r\n",
      "Requirement already satisfied: safetensors>=0.3.1 in /Users/zhaowu/anaconda3/envs/ml/lib/python3.11/site-packages (from accelerate) (0.4.1)\r\n",
      "Requirement already satisfied: transformers<5.0.0,>=4.6.0 in /Users/zhaowu/anaconda3/envs/ml/lib/python3.11/site-packages (from sentence_transformers) (4.36.2)\r\n",
      "Requirement already satisfied: tqdm in /Users/zhaowu/anaconda3/envs/ml/lib/python3.11/site-packages (from sentence_transformers) (4.66.1)\r\n",
      "Collecting torchvision (from sentence_transformers)\r\n",
      "  Downloading https://pypi.tuna.tsinghua.edu.cn/packages/ef/a2/f16cac894c4c71585b3411707502ed8d607945fb4a695857621565bd728d/torchvision-0.16.2-cp311-cp311-macosx_11_0_arm64.whl (1.5 MB)\r\n",
      "\u001B[2K     \u001B[90m━━━━━━━━━━━━━━━━━━━━━━━━━━━━━━━━━━━━━━━━\u001B[0m \u001B[32m1.5/1.5 MB\u001B[0m \u001B[31m7.8 MB/s\u001B[0m eta \u001B[36m0:00:00\u001B[0m00:01\u001B[0m00:01\u001B[0mm\r\n",
      "\u001B[?25hCollecting scikit-learn (from sentence_transformers)\r\n",
      "  Downloading https://pypi.tuna.tsinghua.edu.cn/packages/40/c6/2e91eefb757822e70d351e02cc38d07c137212ae7c41ac12746415b4860a/scikit_learn-1.3.2-cp311-cp311-macosx_12_0_arm64.whl (9.4 MB)\r\n",
      "\u001B[2K     \u001B[90m━━━━━━━━━━━━━━━━━━━━━━━━━━━━━━━━━━━━━━━━\u001B[0m \u001B[32m9.4/9.4 MB\u001B[0m \u001B[31m9.0 MB/s\u001B[0m eta \u001B[36m0:00:00\u001B[0m00:01\u001B[0m00:01\u001B[0mm\r\n",
      "\u001B[?25hCollecting scipy (from sentence_transformers)\r\n",
      "  Downloading https://pypi.tuna.tsinghua.edu.cn/packages/4b/48/20e77ddb1f473d4717a7d4d3fc8d15557f406f7708496054c59f635b7734/scipy-1.11.4-cp311-cp311-macosx_12_0_arm64.whl (29.7 MB)\r\n",
      "\u001B[2K     \u001B[90m━━━━━━━━━━━━━━━━━━━━━━━━━━━━━━━━━━━━━━━━\u001B[0m \u001B[32m29.7/29.7 MB\u001B[0m \u001B[31m9.1 MB/s\u001B[0m eta \u001B[36m0:00:00\u001B[0m00:01\u001B[0m00:01\u001B[0mm\r\n",
      "\u001B[?25hCollecting nltk (from sentence_transformers)\r\n",
      "  Downloading https://pypi.tuna.tsinghua.edu.cn/packages/a6/0a/0d20d2c0f16be91b9fa32a77b76c60f9baf6eba419e5ef5deca17af9c582/nltk-3.8.1-py3-none-any.whl (1.5 MB)\r\n",
      "\u001B[2K     \u001B[90m━━━━━━━━━━━━━━━━━━━━━━━━━━━━━━━━━━━━━━━━\u001B[0m \u001B[32m1.5/1.5 MB\u001B[0m \u001B[31m11.1 MB/s\u001B[0m eta \u001B[36m0:00:00\u001B[0ma \u001B[36m0:00:01\u001B[0m\r\n",
      "\u001B[?25hRequirement already satisfied: sentencepiece in /Users/zhaowu/anaconda3/envs/ml/lib/python3.11/site-packages (from sentence_transformers) (0.1.99)\r\n",
      "Requirement already satisfied: attrs>=17.3.0 in /Users/zhaowu/anaconda3/envs/ml/lib/python3.11/site-packages (from aiohttp<4.0.0,>=3.8.3->langchain) (23.2.0)\r\n",
      "Requirement already satisfied: multidict<7.0,>=4.5 in /Users/zhaowu/anaconda3/envs/ml/lib/python3.11/site-packages (from aiohttp<4.0.0,>=3.8.3->langchain) (6.0.4)\r\n",
      "Requirement already satisfied: yarl<2.0,>=1.0 in /Users/zhaowu/anaconda3/envs/ml/lib/python3.11/site-packages (from aiohttp<4.0.0,>=3.8.3->langchain) (1.9.3)\r\n",
      "Requirement already satisfied: frozenlist>=1.1.1 in /Users/zhaowu/anaconda3/envs/ml/lib/python3.11/site-packages (from aiohttp<4.0.0,>=3.8.3->langchain) (1.4.1)\r\n",
      "Requirement already satisfied: aiosignal>=1.1.2 in /Users/zhaowu/anaconda3/envs/ml/lib/python3.11/site-packages (from aiohttp<4.0.0,>=3.8.3->langchain) (1.3.1)\r\n",
      "Requirement already satisfied: marshmallow<4.0.0,>=3.18.0 in /Users/zhaowu/anaconda3/envs/ml/lib/python3.11/site-packages (from dataclasses-json<0.7,>=0.5.7->langchain) (3.20.1)\r\n",
      "Requirement already satisfied: typing-inspect<1,>=0.4.0 in /Users/zhaowu/anaconda3/envs/ml/lib/python3.11/site-packages (from dataclasses-json<0.7,>=0.5.7->langchain) (0.9.0)\r\n",
      "Requirement already satisfied: jsonpointer>=1.9 in /Users/zhaowu/anaconda3/envs/ml/lib/python3.11/site-packages (from jsonpatch<2.0,>=1.33->langchain) (2.4)\r\n",
      "Requirement already satisfied: anyio<5,>=3 in /Users/zhaowu/anaconda3/envs/ml/lib/python3.11/site-packages (from langchain-core<0.2,>=0.1.7->langchain) (3.5.0)\r\n",
      "Requirement already satisfied: annotated-types>=0.4.0 in /Users/zhaowu/anaconda3/envs/ml/lib/python3.11/site-packages (from pydantic<3,>=1->langchain) (0.6.0)\r\n",
      "Requirement already satisfied: pydantic-core==2.14.6 in /Users/zhaowu/anaconda3/envs/ml/lib/python3.11/site-packages (from pydantic<3,>=1->langchain) (2.14.6)\r\n",
      "Requirement already satisfied: charset-normalizer<4,>=2 in /Users/zhaowu/anaconda3/envs/ml/lib/python3.11/site-packages (from requests<3,>=2->langchain) (3.3.2)\r\n",
      "Requirement already satisfied: idna<4,>=2.5 in /Users/zhaowu/anaconda3/envs/ml/lib/python3.11/site-packages (from requests<3,>=2->langchain) (3.6)\r\n",
      "Requirement already satisfied: urllib3<3,>=1.21.1 in /Users/zhaowu/anaconda3/envs/ml/lib/python3.11/site-packages (from requests<3,>=2->langchain) (1.26.18)\r\n",
      "Requirement already satisfied: certifi>=2017.4.17 in /Users/zhaowu/anaconda3/envs/ml/lib/python3.11/site-packages (from requests<3,>=2->langchain) (2023.11.17)\r\n",
      "Requirement already satisfied: regex!=2019.12.17 in /Users/zhaowu/anaconda3/envs/ml/lib/python3.11/site-packages (from transformers<5.0.0,>=4.6.0->sentence_transformers) (2023.12.25)\r\n",
      "Requirement already satisfied: tokenizers<0.19,>=0.14 in /Users/zhaowu/anaconda3/envs/ml/lib/python3.11/site-packages (from transformers<5.0.0,>=4.6.0->sentence_transformers) (0.15.0)\r\n",
      "Requirement already satisfied: MarkupSafe>=2.0 in /Users/zhaowu/anaconda3/envs/ml/lib/python3.11/site-packages (from jinja2->torch) (2.1.3)\r\n",
      "Requirement already satisfied: click in /Users/zhaowu/anaconda3/envs/ml/lib/python3.11/site-packages (from nltk->sentence_transformers) (8.1.7)\r\n",
      "Collecting joblib (from nltk->sentence_transformers)\r\n",
      "  Using cached https://pypi.tuna.tsinghua.edu.cn/packages/10/40/d551139c85db202f1f384ba8bcf96aca2f329440a844f924c8a0040b6d02/joblib-1.3.2-py3-none-any.whl (302 kB)\r\n",
      "Collecting threadpoolctl>=2.0.0 (from scikit-learn->sentence_transformers)\r\n",
      "  Using cached https://pypi.tuna.tsinghua.edu.cn/packages/81/12/fd4dea011af9d69e1cad05c75f3f7202cdcbeac9b712eea58ca779a72865/threadpoolctl-3.2.0-py3-none-any.whl (15 kB)\r\n",
      "Requirement already satisfied: mpmath>=0.19 in /Users/zhaowu/anaconda3/envs/ml/lib/python3.11/site-packages (from sympy->torch) (1.3.0)\r\n",
      "Collecting pillow!=8.3.*,>=5.3.0 (from torchvision->sentence_transformers)\r\n",
      "  Downloading https://pypi.tuna.tsinghua.edu.cn/packages/46/ce/a84284ab66a278825109b03765d7411be3ff18250da44faa9fb5ea9a16a0/pillow-10.2.0-cp311-cp311-macosx_11_0_arm64.whl (3.3 MB)\r\n",
      "\u001B[2K     \u001B[90m━━━━━━━━━━━━━━━━━━━━━━━━━━━━━━━━━━━━━━━━\u001B[0m \u001B[32m3.3/3.3 MB\u001B[0m \u001B[31m10.2 MB/s\u001B[0m eta \u001B[36m0:00:00\u001B[0ma \u001B[36m0:00:01\u001B[0m\r\n",
      "\u001B[?25hRequirement already satisfied: sniffio>=1.1 in /Users/zhaowu/anaconda3/envs/ml/lib/python3.11/site-packages (from anyio<5,>=3->langchain-core<0.2,>=0.1.7->langchain) (1.2.0)\r\n",
      "Requirement already satisfied: mypy-extensions>=0.3.0 in /Users/zhaowu/anaconda3/envs/ml/lib/python3.11/site-packages (from typing-inspect<1,>=0.4.0->dataclasses-json<0.7,>=0.5.7->langchain) (1.0.0)\r\n",
      "Building wheels for collected packages: sentence_transformers\r\n",
      "  Building wheel for sentence_transformers (setup.py) ... \u001B[?25ldone\r\n",
      "\u001B[?25h  Created wheel for sentence_transformers: filename=sentence_transformers-2.2.2-py3-none-any.whl size=125923 sha256=b927715109e0582476b81a553a887a48a551c164b752fe741c54028fa6cb43d7\r\n",
      "  Stored in directory: /Users/zhaowu/Library/Caches/pip/wheels/4a/6d/50/012d275481f6240bae1ca3ecf16c97fd1052a741713a844a7f\r\n",
      "Successfully built sentence_transformers\r\n",
      "Installing collected packages: threadpoolctl, scipy, pillow, joblib, scikit-learn, nltk, torchvision, sentence_transformers\r\n",
      "Successfully installed joblib-1.3.2 nltk-3.8.1 pillow-10.2.0 scikit-learn-1.3.2 scipy-1.11.4 sentence_transformers-2.2.2 threadpoolctl-3.2.0 torchvision-0.16.2\r\n"
     ]
    }
   ],
   "source": [
    "!pip install langchain llama-cpp-python torch bitsandbytes accelerate sentence_transformers"
   ],
   "metadata": {
    "collapsed": false,
    "ExecuteTime": {
     "end_time": "2024-01-07T15:22:21.355447Z",
     "start_time": "2024-01-07T15:22:09.459690Z"
    }
   },
   "id": "dce323364398bfd7",
   "execution_count": 8
  },
  {
   "cell_type": "code",
   "outputs": [
    {
     "name": "stdout",
     "output_type": "stream",
     "text": [
      "torch.Size([1, 11, 768])\n"
     ]
    }
   ],
   "source": [
    "from transformers import AutoTokenizer, AutoModel\n",
    "\n",
    "tokenizer = AutoTokenizer.from_pretrained(\"BAAI/llm-embedder\")\n",
    "model = AutoModel.from_pretrained(\"BAAI/llm-embedder\")\n",
    "\n",
    "text = \"这是一个测试句子。\"\n",
    "input_ids = tokenizer(text, return_tensors=\"pt\")[\"input_ids\"]\n",
    "embeddings = model(input_ids).last_hidden_state\n",
    "print(embeddings.shape)\n"
   ],
   "metadata": {
    "collapsed": false,
    "ExecuteTime": {
     "end_time": "2024-01-07T15:39:04.173293Z",
     "start_time": "2024-01-07T15:39:03.106028Z"
    }
   },
   "id": "1fa389d24fd3b895",
   "execution_count": 15
  },
  {
   "cell_type": "markdown",
   "source": [
    "## 遗留问题：\n",
    "- 为什么用OpenAIEmbeddings？是开源的还是需要调用openai的接口？\n",
    "    - 答案，会报错：`ValidationError: 1 validation error for OpenAIEmbeddings...Did not find openai_api_key`\n",
    "- langchain.embeddings中有没有sentencepiece的分词器？\n",
    "- WebBaseLoader会自动去掉广告吗？支持js渲染吗？\n",
    "- langchain.llms有哪些？\n",
    "- LlamaForCausalLM.from_pretrained报错：`OSError: TheBloke/Yi-6B-GGUF does not appear to have a file named pytorch_model.bin, tf_model.h5, model.ckpt or flax_model.msgpack.`"
   ],
   "metadata": {
    "collapsed": false
   },
   "id": "266c65da37b88ebc"
  }
 ],
 "metadata": {
  "kernelspec": {
   "display_name": "Python 3",
   "language": "python",
   "name": "python3"
  },
  "language_info": {
   "codemirror_mode": {
    "name": "ipython",
    "version": 2
   },
   "file_extension": ".py",
   "mimetype": "text/x-python",
   "name": "python",
   "nbconvert_exporter": "python",
   "pygments_lexer": "ipython2",
   "version": "2.7.6"
  }
 },
 "nbformat": 4,
 "nbformat_minor": 5
}
