{
 "cells": [
  {
   "cell_type": "markdown",
   "id": "4573536b-e237-41dc-bbe8-56c3c99dfc3d",
   "metadata": {},
   "source": [
    "# 基础知识\n",
    "huggingface是一个平台，本身提供了一个transformers的底层机器学习库，同时还提供了很多开源的models和datasets。我们主要用到了里面的预训练模型，开箱即用，可以直接用到我们的工作中去。\n",
    "\n",
    "## 模型model\n",
    "huggingface上面有很多模型，包括预训练的模型，主要是解决NLP和图像以及音频类的任务。\n",
    "这些任务叫做[task](https://huggingface.co/tasks)，每一个都有完整的说明和适用的场景。\n",
    "\n",
    "### NLP任务列表\n",
    "- Conversational\n",
    "- Fill-Mask\n",
    "- Question Answering\n",
    "- Sentence Similarity\n",
    "- Summarization\n",
    "- Table Question Answering\n",
    "- Text Classification\n",
    "- Text Generation\n",
    "- Token Classification\n",
    "- Translation\n",
    "- Zero-Shot Classification\n",
    "[主要的NLP任务](https://huggingface.co/learn/nlp-course/zh-CN/chapter7/1?fw=pt)\n",
    "[开箱即用的 pipelines](https://transformers.run/intro/2021-12-08-transformers-note-1/)\n",
    "\n",
    "## transformers\n",
    "pipeline是最简单的对象，第一个参数是task，第二个参数是model，可以只提供task，或者只提供model。task包含如下：\n",
    "- feature-extraction （获得文本的向量化表示）\n",
    "- fill-mask （填充被遮盖的词、片段）\n",
    "- ner（命名实体识别）\n",
    "- question-answering （自动问答）\n",
    "- sentiment-analysis （情感分析）\n",
    "- summarization （自动摘要）\n",
    "- text-generation （文本生成）\n",
    "- translation （机器翻译）\n",
    "- zero-shot-classification （零训练样本分类）\n",
    "由于每一个默认的都是用的英文，所以我们在公司使用的时候基本都要考虑一下支持中文的model。"
   ]
  },
  {
   "cell_type": "code",
   "execution_count": 1,
   "id": "93bcf2c4-4335-4b18-9446-a6004d250e29",
   "metadata": {},
   "outputs": [],
   "source": [
    "import os\n",
    "os.environ['HTTP_PROXY'] = 'http://127.0.0.1:7890'\n",
    "os.environ['HTTPS_PROXY'] = 'http://127.0.0.1:7890'\n",
    "cachedir='d:/huggingface_cache'\n",
    "os.environ['HUGGINGFACE_HUB_CACHE'] = cachedir\n",
    "os.environ['TRANSFORMERS_CACHE'] = cachedir\n",
    "os.environ['HF_HOME'] = cachedir"
   ]
  },
  {
   "cell_type": "code",
   "execution_count": 2,
   "id": "c021af92-2753-4a58-96c0-ddf323cf622d",
   "metadata": {},
   "outputs": [
    {
     "name": "stderr",
     "output_type": "stream",
     "text": [
      "No model was supplied, defaulted to distilbert-base-uncased-finetuned-sst-2-english and revision af0f99b (https://huggingface.co/distilbert-base-uncased-finetuned-sst-2-english).\n",
      "Using a pipeline without specifying a model name and revision in production is not recommended.\n"
     ]
    },
    {
     "name": "stdout",
     "output_type": "stream",
     "text": [
      "[{'label': 'POSITIVE', 'score': 0.9598050713539124}]\n"
     ]
    }
   ],
   "source": [
    "from transformers import pipeline\n",
    "\n",
    "classifier = pipeline(\"sentiment-analysis\")\n",
    "result = classifier(\"I've been waiting for a HuggingFace course my whole life.\")\n",
    "print(result)"
   ]
  },
  {
   "cell_type": "markdown",
   "id": "eb61e75b-dc5f-431a-98a7-e10ace9b8a42",
   "metadata": {},
   "source": [
    "上面默认的通常都是英文，如果需要支持中文的话，需要到官网进行筛选提取，比如可以使用`lxyuan/distilbert-base-multilingual-cased-sentiments-student`"
   ]
  },
  {
   "cell_type": "code",
   "execution_count": 3,
   "id": "5895d4ad-4b2c-4890-b6f6-6502ad91b40a",
   "metadata": {},
   "outputs": [
    {
     "data": {
      "application/vnd.jupyter.widget-view+json": {
       "model_id": "c3eaaad8f5de404d890585c7f5938bae",
       "version_major": 2,
       "version_minor": 0
      },
      "text/plain": [
       "Downloading:   0%|          | 0.00/2.41k [00:00<?, ?B/s]"
      ]
     },
     "metadata": {},
     "output_type": "display_data"
    },
    {
     "name": "stderr",
     "output_type": "stream",
     "text": [
      "C:\\Users\\zhaowu.BMH\\Anaconda3\\lib\\site-packages\\transformers\\pipelines\\text_classification.py:89: UserWarning: `return_all_scores` is now deprecated,  if want a similar funcionality use `top_k=None` instead of `return_all_scores=True` or `top_k=1` instead of `return_all_scores=False`.\n",
      "  warnings.warn(\n"
     ]
    },
    {
     "name": "stdout",
     "output_type": "stream",
     "text": [
      "[[{'label': 'positive', 'score': 0.9327275156974792}, {'label': 'neutral', 'score': 0.05581485107541084}, {'label': 'negative', 'score': 0.011457622051239014}]]\n",
      "[[{'label': 'positive', 'score': 0.04255858436226845}, {'label': 'neutral', 'score': 0.09783820062875748}, {'label': 'negative', 'score': 0.859603226184845}]]\n"
     ]
    }
   ],
   "source": [
    "from transformers import pipeline\n",
    "\n",
    "classifier = pipeline(model=\"lxyuan/distilbert-base-multilingual-cased-sentiments-student\", return_all_scores=True)\n",
    "result = classifier(\"我喜欢huggingface\")\n",
    "print(result)\n",
    "\n",
    "result = classifier(\"我讨厌huggingface\")\n",
    "print(result)"
   ]
  },
  {
   "cell_type": "markdown",
   "id": "0bda39dc-fbe8-4ab3-855f-14bf85ecedab",
   "metadata": {},
   "source": [
    "# 任务场景\n",
    "\n",
    "## 不要每次都去下载配置，只做离线使用\n",
    "设置model_kwargs中的local_files_only参数就行："
   ]
  },
  {
   "cell_type": "code",
   "execution_count": 4,
   "id": "2ca66043-f0b3-41d6-b7e3-0ca2306ac213",
   "metadata": {},
   "outputs": [
    {
     "name": "stderr",
     "output_type": "stream",
     "text": [
      "No model was supplied, defaulted to distilbert-base-uncased-finetuned-sst-2-english and revision af0f99b (https://huggingface.co/distilbert-base-uncased-finetuned-sst-2-english).\n",
      "Using a pipeline without specifying a model name and revision in production is not recommended.\n"
     ]
    },
    {
     "name": "stdout",
     "output_type": "stream",
     "text": [
      "[{'label': 'POSITIVE', 'score': 0.9598050713539124}]\n"
     ]
    }
   ],
   "source": [
    "from transformers import pipeline\n",
    "\n",
    "classifier = pipeline(\"sentiment-analysis\", model_kwargs={'local_files_only':True})\n",
    "result = classifier(\"I've been waiting for a HuggingFace course my whole life.\")\n",
    "print(result)"
   ]
  },
  {
   "cell_type": "markdown",
   "id": "0d4fb78b-4d24-4f9a-aede-0e5275110e81",
   "metadata": {},
   "source": [
    "## 如何设置缓存目录？\n",
    "可以通过环境变量来设置：\n",
    "```\n",
    "os.environ['HUGGINGFACE_HUB_CACHE'] = 'd:/huggingface_cache'\n",
    "```"
   ]
  },
  {
   "cell_type": "markdown",
   "id": "f285a35d-d055-4db0-904d-aa5ac5d2ad92",
   "metadata": {},
   "source": [
    "# 常见问题"
   ]
  },
  {
   "cell_type": "markdown",
   "id": "50463a34-dfc8-44c4-a25f-7f7751efb22b",
   "metadata": {},
   "source": [
    "## 在pipeline中的task可以是sentiment-analysis，但是在[官方文档任务描述](https://huggingface.co/tasks)中确没有，只有Text Classification，他们是什么样的对应关系？\n",
    "\n",
    "在`transformers\\pipelines\\__init__.py`文件中可以找到如下代码：\n",
    "```python\n",
    "TASK_ALIASES = {\n",
    "    \"sentiment-analysis\": \"text-classification\",\n",
    "    \"ner\": \"token-classification\",\n",
    "    \"vqa\": \"visual-question-answering\",\n",
    "}\n",
    "SUPPORTED_TASKS = {\n",
    "    \"audio-classification\": {\n",
    "        \"impl\": AudioClassificationPipeline,\n",
    "        \"tf\": (),\n",
    "        \"pt\": (AutoModelForAudioClassification,) if is_torch_available() else (),\n",
    "        \"default\": {\"model\": {\"pt\": (\"superb/wav2vec2-base-superb-ks\", \"372e048\")}},\n",
    "        \"type\": \"audio\",\n",
    "    },\n",
    "```\n",
    "可以看到SUPPORTED_TASKS的key代表了所有可以选择的任务类型，其中的type对应类型，有audio/text/image/multimodal四种，default对应默认的模型名称。\n",
    "\n",
    "TASK_ALIASES是一个别名，可以看到\"sentiment-analysis\"就对应\"text-classification\"，是一个东西。同样的，ner也对应token-classification。一个是人类容易理解的，另一个是程序的编号。\n"
   ]
  }
 ],
 "metadata": {
  "kernelspec": {
   "display_name": "Python 3 (ipykernel)",
   "language": "python",
   "name": "python3"
  },
  "language_info": {
   "codemirror_mode": {
    "name": "ipython",
    "version": 3
   },
   "file_extension": ".py",
   "mimetype": "text/x-python",
   "name": "python",
   "nbconvert_exporter": "python",
   "pygments_lexer": "ipython3",
   "version": "3.9.16"
  }
 },
 "nbformat": 4,
 "nbformat_minor": 5
}
