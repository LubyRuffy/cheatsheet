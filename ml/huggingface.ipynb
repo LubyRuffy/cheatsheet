{
 "cells": [
  {
   "cell_type": "markdown",
   "id": "4573536b-e237-41dc-bbe8-56c3c99dfc3d",
   "metadata": {},
   "source": [
    "# 基础知识\n",
    "huggingface是一个平台，本身提供了一个transformers的底层机器学习库，同时还提供了很多开源的models和datasets。我们主要用到了里面的预训练模型，开箱即用，可以直接用到我们的工作中去。\n",
    "\n",
    "## 模型model\n",
    "huggingface上面有很多模型，包括预训练的模型，主要是解决NLP和图像以及音频类的任务。\n",
    "这些任务叫做[task](https://huggingface.co/tasks)。"
   ]
  },
  {
   "cell_type": "code",
   "execution_count": 1,
   "id": "2189d1d3-b395-41fd-b87b-115eceee0a6f",
   "metadata": {},
   "outputs": [
    {
     "data": {
      "text/plain": [
       "2"
      ]
     },
     "execution_count": 1,
     "metadata": {},
     "output_type": "execute_result"
    }
   ],
   "source": [
    "from IPython.core.interactiveshell import InteractiveShell\n",
    "InteractiveShell.ast_node_interactivity = \"all\" \n",
    "1\n",
    "2"
   ]
  },
  {
   "cell_type": "markdown",
   "id": "0bda39dc-fbe8-4ab3-855f-14bf85ecedab",
   "metadata": {},
   "source": [
    "# 任务场景\n"
   ]
  },
  {
   "cell_type": "markdown",
   "id": "f285a35d-d055-4db0-904d-aa5ac5d2ad92",
   "metadata": {},
   "source": [
    "# 常见问题"
   ]
  }
 ],
 "metadata": {
  "kernelspec": {
   "display_name": "Python 3 (ipykernel)",
   "language": "python",
   "name": "python3"
  },
  "language_info": {
   "codemirror_mode": {
    "name": "ipython",
    "version": 3
   },
   "file_extension": ".py",
   "mimetype": "text/x-python",
   "name": "python",
   "nbconvert_exporter": "python",
   "pygments_lexer": "ipython3",
   "version": "3.10.9"
  }
 },
 "nbformat": 4,
 "nbformat_minor": 5
}
