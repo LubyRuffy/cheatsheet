{
 "cells": [
  {
   "metadata": {},
   "cell_type": "markdown",
   "source": [
    "# pytorch的tensor 操作\n",
    "\n",
    "## 基础概念\n",
    "- Tensor类似与NumPy的ndarray，但是可以用GPU加速\n",
    "- 张量（tensor）是多维数组，可以看做是矩阵的扩展，在深度学习中，张量是神经网络运算的基本单位。\n",
    "- 张量最重要的就是进行运算，比如加减乘除，切片，广播等。\n",
    "- 张量最重要的概念有：\n",
    "    - 数据类型dtype\n",
    "    - shape形状，或者叫size，或者维度dim\n"
   ],
   "id": "b3853f5bd57d580e"
  },
  {
   "metadata": {
    "ExecuteTime": {
     "end_time": "2024-11-03T03:19:07.690581Z",
     "start_time": "2024-11-03T03:19:07.112431Z"
    }
   },
   "cell_type": "code",
   "source": [
    "import torch\n",
    "import numpy as np"
   ],
   "id": "eecfe72c85809675",
   "outputs": [],
   "execution_count": 1
  },
  {
   "metadata": {},
   "cell_type": "markdown",
   "source": [
    "## 创建Tensor的四种方法\n",
    "| 方法 | 输入类型                                           | 共享内存       | 默认类型                       | 方法类型     |\n",
    "|----|------------------------------------------------|------------|----------------------------|----------|\n",
    "|  torch.Tensor  | 列表、NumPy数组、现有的PyTorch张量，或者张量的形状size（等同empty()） | 复制         | float32，指定通过.to(torch.int) | 构造函数     |\n",
    "|  torch.tensor  | 只允许输入数据，不允许输入张量的形状size                         | 复制         | 根据输入判断，可以通过dtype指定         | 工厂函数     |\n",
    "|  torch.as_tensor  | 列表、NumPy数组、现有的PyTorch张量                        | np下共享，其他复制 | 根据输入判断，可以通过dtype指定                     | 工厂函数 |\n",
    "|  torch.from_numpy  | 必须是np数组                                        | 总是共享       | 根据输入判断，可以通过dtype指定                     | 工厂函数 |"
   ],
   "id": "d97f17afa8ffc99d"
  },
  {
   "metadata": {
    "ExecuteTime": {
     "end_time": "2024-11-03T03:19:07.701039Z",
     "start_time": "2024-11-03T03:19:07.696202Z"
    }
   },
   "cell_type": "code",
   "source": "torch.Tensor([1, 2, 3]) # 返回float32张量",
   "id": "4ae369527fe9fdb8",
   "outputs": [
    {
     "data": {
      "text/plain": [
       "tensor([1., 2., 3.])"
      ]
     },
     "execution_count": 2,
     "metadata": {},
     "output_type": "execute_result"
    }
   ],
   "execution_count": 2
  },
  {
   "metadata": {
    "ExecuteTime": {
     "end_time": "2024-11-03T03:19:07.728882Z",
     "start_time": "2024-11-03T03:19:07.726170Z"
    }
   },
   "cell_type": "code",
   "source": "torch.Tensor(1, 2, 3)",
   "id": "10112802fb49564",
   "outputs": [
    {
     "data": {
      "text/plain": [
       "tensor([[[0., 0., 0.],\n",
       "         [0., 0., 0.]]])"
      ]
     },
     "execution_count": 3,
     "metadata": {},
     "output_type": "execute_result"
    }
   ],
   "execution_count": 3
  },
  {
   "metadata": {
    "ExecuteTime": {
     "end_time": "2024-11-03T03:19:07.796767Z",
     "start_time": "2024-11-03T03:19:07.793891Z"
    }
   },
   "cell_type": "code",
   "source": "torch.Tensor(np.array([1, 2, 3]))",
   "id": "2714073a42dc1112",
   "outputs": [
    {
     "data": {
      "text/plain": [
       "tensor([1., 2., 3.])"
      ]
     },
     "execution_count": 4,
     "metadata": {},
     "output_type": "execute_result"
    }
   ],
   "execution_count": 4
  },
  {
   "metadata": {
    "ExecuteTime": {
     "end_time": "2024-11-03T03:19:07.878724Z",
     "start_time": "2024-11-03T03:19:07.875521Z"
    }
   },
   "cell_type": "code",
   "source": "torch.Tensor(torch.Tensor(np.array([1, 2, 3])))",
   "id": "20558c6ec28bce8d",
   "outputs": [
    {
     "data": {
      "text/plain": [
       "tensor([1., 2., 3.])"
      ]
     },
     "execution_count": 5,
     "metadata": {},
     "output_type": "execute_result"
    }
   ],
   "execution_count": 5
  },
  {
   "metadata": {
    "ExecuteTime": {
     "end_time": "2024-11-03T03:19:07.919489Z",
     "start_time": "2024-11-03T03:19:07.916434Z"
    }
   },
   "cell_type": "code",
   "source": "torch.tensor((1,2,3)) # 不支持size，这种输入方式还是作为数组[]处理",
   "id": "24f82b9d87a7903d",
   "outputs": [
    {
     "data": {
      "text/plain": [
       "tensor([1, 2, 3])"
      ]
     },
     "execution_count": 6,
     "metadata": {},
     "output_type": "execute_result"
    }
   ],
   "execution_count": 6
  },
  {
   "metadata": {},
   "cell_type": "markdown",
   "source": [
    "## 填充数据\n",
    "- torch.zeros(1,2,3)\n",
    "- torch.ones(3)\n",
    "- torch.rand(3)  # 均匀分布，生成的值均在 [0, 1) 之间\n",
    "- torch.randn(3) # 正态分布，均值为 0，标准差为 1。在神经网络中考虑到权重更新的有效性，一般使用正态分布**初始化**权重和偏置"
   ],
   "id": "158e9eb950cd7a58"
  },
  {
   "metadata": {
    "ExecuteTime": {
     "end_time": "2024-11-03T03:21:01.558887Z",
     "start_time": "2024-11-03T03:21:01.555874Z"
    }
   },
   "cell_type": "code",
   "source": "torch.zeros(1,2,3)",
   "id": "a08467c83b0c3bb6",
   "outputs": [
    {
     "data": {
      "text/plain": [
       "tensor([[[0., 0., 0.],\n",
       "         [0., 0., 0.]]])"
      ]
     },
     "execution_count": 8,
     "metadata": {},
     "output_type": "execute_result"
    }
   ],
   "execution_count": 8
  },
  {
   "metadata": {
    "ExecuteTime": {
     "end_time": "2024-11-03T03:21:19.384244Z",
     "start_time": "2024-11-03T03:21:19.380008Z"
    }
   },
   "cell_type": "code",
   "source": "torch.ones(1,2,3)",
   "id": "27abcd77ddd3e0ad",
   "outputs": [
    {
     "data": {
      "text/plain": [
       "tensor([[[1., 1., 1.],\n",
       "         [1., 1., 1.]]])"
      ]
     },
     "execution_count": 10,
     "metadata": {},
     "output_type": "execute_result"
    }
   ],
   "execution_count": 10
  },
  {
   "metadata": {
    "ExecuteTime": {
     "end_time": "2024-11-03T03:21:43.262936Z",
     "start_time": "2024-11-03T03:21:43.258572Z"
    }
   },
   "cell_type": "code",
   "source": "torch.rand(1,2,3) # 生成的值均在 [0, 1) 之间",
   "id": "1aeff157e4fa3899",
   "outputs": [
    {
     "data": {
      "text/plain": [
       "tensor([[[0.0878, 0.1176, 0.9964],\n",
       "         [0.7688, 0.2123, 0.8348]]])"
      ]
     },
     "execution_count": 12,
     "metadata": {},
     "output_type": "execute_result"
    }
   ],
   "execution_count": 12
  },
  {
   "metadata": {
    "ExecuteTime": {
     "end_time": "2024-11-03T03:22:27.525131Z",
     "start_time": "2024-11-03T03:22:27.521320Z"
    }
   },
   "cell_type": "code",
   "source": "torch.randn(1,2,3)",
   "id": "81afdb7efbe9ecb0",
   "outputs": [
    {
     "data": {
      "text/plain": [
       "tensor([[[-0.4087,  0.4875,  0.3961],\n",
       "         [-1.7202,  1.6809,  0.2054]]])"
      ]
     },
     "execution_count": 13,
     "metadata": {},
     "output_type": "execute_result"
    }
   ],
   "execution_count": 13
  },
  {
   "metadata": {},
   "cell_type": "markdown",
   "source": [
    "## 查看形状\n",
    "形状（即每个维度的大小）对应torch.Size定义，是一个tuple元祖\n",
    "- torch.size()\n",
    "- torch.shape\n",
    "上面等价\n",
    "- torch.dim() 维数"
   ],
   "id": "bc3bf420b02a3c0f"
  },
  {
   "metadata": {
    "ExecuteTime": {
     "end_time": "2024-11-03T03:55:55.243001Z",
     "start_time": "2024-11-03T03:55:55.239868Z"
    }
   },
   "cell_type": "code",
   "source": [
    "print(type(torch.Tensor(torch.rand(1,2,3)).shape)) \n",
    "torch.Tensor(torch.rand(1,2,3)).shape"
   ],
   "id": "8c49041a558a28cd",
   "outputs": [
    {
     "name": "stdout",
     "output_type": "stream",
     "text": [
      "<class 'torch.Size'>\n"
     ]
    },
    {
     "data": {
      "text/plain": [
       "torch.Size([1, 2, 3])"
      ]
     },
     "execution_count": 20,
     "metadata": {},
     "output_type": "execute_result"
    }
   ],
   "execution_count": 20
  },
  {
   "metadata": {
    "ExecuteTime": {
     "end_time": "2024-11-03T03:56:07.090051Z",
     "start_time": "2024-11-03T03:56:07.086335Z"
    }
   },
   "cell_type": "code",
   "source": [
    "print(type(torch.Tensor(torch.rand(1,2,3)).size())) \n",
    "torch.Tensor(torch.rand(1,2,3)).size()"
   ],
   "id": "fd761f280d47d6bd",
   "outputs": [
    {
     "name": "stdout",
     "output_type": "stream",
     "text": [
      "<class 'torch.Size'>\n"
     ]
    },
    {
     "data": {
      "text/plain": [
       "torch.Size([1, 2, 3])"
      ]
     },
     "execution_count": 21,
     "metadata": {},
     "output_type": "execute_result"
    }
   ],
   "execution_count": 21
  },
  {
   "metadata": {
    "ExecuteTime": {
     "end_time": "2024-11-03T04:21:54.978742Z",
     "start_time": "2024-11-03T04:21:54.975989Z"
    }
   },
   "cell_type": "code",
   "source": "torch.Tensor(torch.rand(1,2,3)).dim()",
   "id": "d82ae34e5c833bfe",
   "outputs": [
    {
     "data": {
      "text/plain": [
       "3"
      ]
     },
     "execution_count": 42,
     "metadata": {},
     "output_type": "execute_result"
    }
   ],
   "execution_count": 42
  },
  {
   "metadata": {},
   "cell_type": "markdown",
   "source": [
    "## 改变形状\n",
    "- torch.squeeze(x,dim) 移除所有大小为 1 的维度（可以移除指定维度）；在模型训练或推理过程中，通常以批次形式处理数据。然而，当处理单个样本时，可能会出现多余的维度。使用torch.squeeze可以移除这些维度，确保数据形状正确。比如对于一个形状为(1, 1, 28, 28)的单张灰度图像，torch.squeeze(single_image)  # 结果形状为 (1, 28, 28)；如果指定的 dim 对应的维度大小不为 1，torch.squeeze 不会对该维度进行操作，张量形状保持不变。\n",
    "- torch.unsqueeze(x,dim) 增加一个1维的维度，dim不可省略，大多数情况下是0，表示在0的位置增加一个维度，比如把单张变成批量\n",
    "- torch.cat([x,y], dim) 拼接维度，不会增加维度，数组间张量的维度必须一样；\n",
    "- torch.stack([x,y,z]) 增加一个新的维度，数组间张量的维度必须一样；\n",
    "\n"
   ],
   "id": "e2a7d17807d68e01"
  },
  {
   "metadata": {
    "ExecuteTime": {
     "end_time": "2024-11-03T04:06:02.688583Z",
     "start_time": "2024-11-03T04:06:02.685282Z"
    }
   },
   "cell_type": "code",
   "source": "torch.squeeze(torch.Tensor(1,1,28,28)).shape # 批量变成单个数据",
   "id": "aacc7bb6cba7c220",
   "outputs": [
    {
     "data": {
      "text/plain": [
       "torch.Size([28, 28])"
      ]
     },
     "execution_count": 25,
     "metadata": {},
     "output_type": "execute_result"
    }
   ],
   "execution_count": 25
  },
  {
   "metadata": {
    "ExecuteTime": {
     "end_time": "2024-11-03T04:09:20.895907Z",
     "start_time": "2024-11-03T04:09:20.892624Z"
    }
   },
   "cell_type": "code",
   "source": "torch.unsqueeze(torch.squeeze(torch.Tensor(28,28)), 0).shape",
   "id": "fa7030cad06fb088",
   "outputs": [
    {
     "data": {
      "text/plain": [
       "torch.Size([1, 28, 28])"
      ]
     },
     "execution_count": 27,
     "metadata": {},
     "output_type": "execute_result"
    }
   ],
   "execution_count": 27
  },
  {
   "metadata": {
    "ExecuteTime": {
     "end_time": "2024-11-03T04:09:32.017922Z",
     "start_time": "2024-11-03T04:09:32.014206Z"
    }
   },
   "cell_type": "code",
   "source": "torch.unsqueeze(torch.squeeze(torch.Tensor(28,28)), 1).shape",
   "id": "3a6c87a309b9a5fd",
   "outputs": [
    {
     "data": {
      "text/plain": [
       "torch.Size([28, 1, 28])"
      ]
     },
     "execution_count": 28,
     "metadata": {},
     "output_type": "execute_result"
    }
   ],
   "execution_count": 28
  },
  {
   "metadata": {
    "ExecuteTime": {
     "end_time": "2024-11-03T04:17:16.303460Z",
     "start_time": "2024-11-03T04:17:16.299743Z"
    }
   },
   "cell_type": "code",
   "source": "torch.cat([torch.Tensor([[1,1,1,1],[2,2,2,2]]),torch.Tensor([[3,3,3,3],[4,4,4,4]])], 0)",
   "id": "88f9cc65a4eb9781",
   "outputs": [
    {
     "data": {
      "text/plain": [
       "tensor([[1., 1., 1., 1.],\n",
       "        [2., 2., 2., 2.],\n",
       "        [3., 3., 3., 3.],\n",
       "        [4., 4., 4., 4.]])"
      ]
     },
     "execution_count": 33,
     "metadata": {},
     "output_type": "execute_result"
    }
   ],
   "execution_count": 33
  },
  {
   "metadata": {
    "ExecuteTime": {
     "end_time": "2024-11-03T04:17:33.252606Z",
     "start_time": "2024-11-03T04:17:33.247985Z"
    }
   },
   "cell_type": "code",
   "source": "torch.cat([torch.Tensor([[1,1,1,1],[2,2,2,2]]),torch.Tensor([[3,3,3,3],[4,4,4,4]])], 1)",
   "id": "c1fd144601fa28c8",
   "outputs": [
    {
     "data": {
      "text/plain": [
       "tensor([[1., 1., 1., 1., 3., 3., 3., 3.],\n",
       "        [2., 2., 2., 2., 4., 4., 4., 4.]])"
      ]
     },
     "execution_count": 34,
     "metadata": {},
     "output_type": "execute_result"
    }
   ],
   "execution_count": 34
  },
  {
   "metadata": {
    "ExecuteTime": {
     "end_time": "2024-11-03T04:18:50.160781Z",
     "start_time": "2024-11-03T04:18:50.156537Z"
    }
   },
   "cell_type": "code",
   "source": "torch.cat((torch.Tensor([[1,1,1,1],[2,2,2,2]]),torch.Tensor([[3,3,3,3],[4,4,4,4]])), 1) # 可以看到元祖()和数组[]的表达形式是一样的",
   "id": "3a9911cd65c86bf2",
   "outputs": [
    {
     "data": {
      "text/plain": [
       "tensor([[1., 1., 1., 1., 3., 3., 3., 3.],\n",
       "        [2., 2., 2., 2., 4., 4., 4., 4.]])"
      ]
     },
     "execution_count": 35,
     "metadata": {},
     "output_type": "execute_result"
    }
   ],
   "execution_count": 35
  },
  {
   "metadata": {
    "ExecuteTime": {
     "end_time": "2024-11-03T04:16:49.505069Z",
     "start_time": "2024-11-03T04:16:49.501082Z"
    }
   },
   "cell_type": "code",
   "source": "torch.stack([torch.Tensor([[1,1,1],[2,2,2]]),torch.Tensor([[3,3,3],[4,4,4]])])",
   "id": "50f252410c6b9696",
   "outputs": [
    {
     "data": {
      "text/plain": [
       "tensor([[[1., 1., 1.],\n",
       "         [2., 2., 2.]],\n",
       "\n",
       "        [[3., 3., 3.],\n",
       "         [4., 4., 4.]]])"
      ]
     },
     "execution_count": 32,
     "metadata": {},
     "output_type": "execute_result"
    }
   ],
   "execution_count": 32
  }
 ],
 "metadata": {
  "kernelspec": {
   "display_name": "Python 3",
   "language": "python",
   "name": "python3"
  },
  "language_info": {
   "codemirror_mode": {
    "name": "ipython",
    "version": 2
   },
   "file_extension": ".py",
   "mimetype": "text/x-python",
   "name": "python",
   "nbconvert_exporter": "python",
   "pygments_lexer": "ipython2",
   "version": "2.7.6"
  }
 },
 "nbformat": 4,
 "nbformat_minor": 5
}
