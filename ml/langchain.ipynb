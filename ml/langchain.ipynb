{
 "cells": [
  {
   "metadata": {},
   "cell_type": "markdown",
   "source": "# langchain 学习",
   "id": "219bdccd3a141708"
  },
  {
   "metadata": {},
   "cell_type": "markdown",
   "source": [
    "## 提示词仓库\n",
    "可以通过hub直接来获取社区的提示词。"
   ],
   "id": "8818d51ead20012f"
  },
  {
   "metadata": {
    "ExecuteTime": {
     "end_time": "2024-10-22T03:43:09.472261Z",
     "start_time": "2024-10-22T03:43:08.122292Z"
    }
   },
   "cell_type": "code",
   "source": [
    "# set the LANGCHAIN_API_KEY environment variable (create key in settings)\n",
    "from langchain import hub\n",
    "prompt = hub.pull(\"hardkothari/prompt-maker\")\n",
    "prompt\n"
   ],
   "id": "ec80d6cef8cbeb0c",
   "outputs": [
    {
     "data": {
      "text/plain": [
       "ChatPromptTemplate(input_variables=['lazy_prompt', 'task'], messages=[SystemMessagePromptTemplate(prompt=PromptTemplate(input_variables=[], template='You are an expert Prompt Writer for Large Language Models.\\n\\n')), HumanMessagePromptTemplate(prompt=PromptTemplate(input_variables=['lazy_prompt', 'task'], template='Your goal is to improve the prompt given below for {task} :\\n--------------------\\n\\nPrompt: {lazy_prompt}\\n\\n--------------------\\n\\nHere are several tips on writing great prompts:\\n\\n-------\\n\\nStart the prompt by stating that it is an expert in the subject.\\n\\nPut instructions at the beginning of the prompt and use ### or to separate the instruction and context \\n\\nBe specific, descriptive and as detailed as possible about the desired context, outcome, length, format, style, etc \\n\\n---------\\n\\nHere\\'s an example of a great prompt:\\n\\nAs a master YouTube content creator, develop an engaging script that revolves around the theme of \"Exploring Ancient Ruins.\"\\n\\nYour script should encompass exciting discoveries, historical insights, and a sense of adventure.\\n\\nInclude a mix of on-screen narration, engaging visuals, and possibly interactions with co-hosts or experts.\\n\\nThe script should ideally result in a video of around 10-15 minutes, providing viewers with a captivating journey through the secrets of the past.\\n\\nExample:\\n\\n\"Welcome back, fellow history enthusiasts, to our channel! Today, we embark on a thrilling expedition...\"\\n\\n-----\\n\\nNow, improve the prompt.\\n\\nIMPROVED PROMPT:'))])"
      ]
     },
     "execution_count": 2,
     "metadata": {},
     "output_type": "execute_result"
    }
   ],
   "execution_count": 2
  },
  {
   "metadata": {},
   "cell_type": "markdown",
   "source": "## 接入llm",
   "id": "4c032ef9ac60778e"
  },
  {
   "metadata": {
    "ExecuteTime": {
     "end_time": "2024-10-22T03:45:42.502988Z",
     "start_time": "2024-10-22T03:45:39.787660Z"
    }
   },
   "cell_type": "code",
   "source": [
    "from langchain_community.llms import Ollama\n",
    "llm = Ollama(model=\"phi3.5\")\n",
    "llm.invoke(\"Tell me a joke\")"
   ],
   "id": "f0fdec98197ac59",
   "outputs": [
    {
     "data": {
      "text/plain": [
       "\"Sure, here'mith: Why don't scientists trust atoms? Because they make up everything, even in jokes! Now isn’t that elemental humor. (Note to self and future users alike—scientific references are always welcome when weaving them into a jest!)\""
      ]
     },
     "execution_count": 3,
     "metadata": {},
     "output_type": "execute_result"
    }
   ],
   "execution_count": 3
  },
  {
   "metadata": {},
   "cell_type": "markdown",
   "source": [
    "## 调用Agent\n",
    "\n",
    "### 集成的tools列表\n",
    "https://python.langchain.com/v0.2/docs/integrations/tools/"
   ],
   "id": "8b637b0119786020"
  },
  {
   "metadata": {
    "ExecuteTime": {
     "end_time": "2024-10-22T04:48:02.022918Z",
     "start_time": "2024-10-22T04:47:59.521450Z"
    }
   },
   "cell_type": "code",
   "source": "%pip install -qU duckduckgo-search\n",
   "id": "122660f57d95ab21",
   "outputs": [
    {
     "name": "stdout",
     "output_type": "stream",
     "text": [
      "Note: you may need to restart the kernel to use updated packages.\n"
     ]
    }
   ],
   "execution_count": 15
  },
  {
   "metadata": {
    "ExecuteTime": {
     "end_time": "2024-10-22T05:10:33.226181Z",
     "start_time": "2024-10-22T05:10:33.215758Z"
    }
   },
   "cell_type": "code",
   "source": [
    "# 用代理实现访问duckduckgo\n",
    "from langchain.tools import DuckDuckGoSearchRun\n",
    "from langchain.callbacks.manager import CallbackManagerForToolRun\n",
    "from typing import Optional, List, Dict\n",
    "from langchain.utilities import DuckDuckGoSearchAPIWrapper\n",
    "    \n",
    "class CustomDuckDuckGoSearchAPIWrapper(DuckDuckGoSearchAPIWrapper):\n",
    "    proxy: Optional[str] = None  # Add a proxy attribute\n",
    "\n",
    "    def _ddgs_text(\n",
    "        self, query: str, max_results: Optional[int] = None\n",
    "    ) -> List[Dict[str, str]]:\n",
    "        \"\"\"Run query through DuckDuckGo text search and return results.\"\"\"\n",
    "        from duckduckgo_search import DDGS\n",
    "\n",
    "        with DDGS(proxy=self.proxy) as ddgs:\n",
    "            ddgs_gen = ddgs.text(\n",
    "                query,\n",
    "                region=self.region,\n",
    "                safesearch=self.safesearch,\n",
    "                timelimit=self.time,\n",
    "                max_results=max_results or self.max_results,\n",
    "                backend=self.backend,\n",
    "            )\n",
    "            if ddgs_gen:\n",
    "                return [r for r in ddgs_gen]\n",
    "        return []\n",
    "    \n",
    "wrapper = CustomDuckDuckGoSearchAPIWrapper(proxy=\"http://127.0.0.1:7890\")\n",
    "custom_search_tool = DuckDuckGoSearchRun(api_wrapper=wrapper)"
   ],
   "id": "389e88dc05e7802a",
   "outputs": [],
   "execution_count": 45
  },
  {
   "metadata": {
    "ExecuteTime": {
     "end_time": "2024-10-22T05:24:52.996257Z",
     "start_time": "2024-10-22T05:24:42.282756Z"
    }
   },
   "cell_type": "code",
   "source": [
    "from langchain import hub\n",
    "from langchain_community.llms import Ollama\n",
    "from langchain.agents import AgentExecutor, create_react_agent\n",
    "\n",
    "prompt = hub.pull(\"hwchase17/react\")\n",
    "llm = Ollama(model=\"mistral-small:latest\")\n",
    "tools = [custom_search_tool]\n",
    "\n",
    "agent = create_react_agent(llm, tools, prompt)\n",
    "agent_executor = AgentExecutor(agent=agent, tools=tools, verbose=True, handle_parsing_errors=True)\n",
    "\n",
    "agent_executor.invoke({\"input\": \"今天北京气温有多少度？请用摄氏度来回答。\"})"
   ],
   "id": "8327faad5176bf76",
   "outputs": [
    {
     "name": "stdout",
     "output_type": "stream",
     "text": [
      "\n",
      "\n",
      "\u001B[1m> Entering new AgentExecutor chain...\u001B[0m\n",
      "\u001B[32;1m\u001B[1;3m Action: duckduckgo_search\n",
      "Action Input: \"Beijing weather today in Celsius\"\u001B[0m\u001B[36;1m\u001B[1;3mBeijing, China - Current temperature and weather conditions. Detailed hourly weather forecast for today - including weather conditions, temperature, pressure, humidity, precipitation, dewpoint, wind, visibility, and UV index data. Updated 10/17 6:47 PM. The hourly local weather forecast shows hour by hour weather conditions like temperature, feels like temperature, humidity, amount of precipitation and chance of precipitation, wind and gusts for Beijing. Beijing. Beijing Weather Forecast. Providing a local hourly Beijing weather forecast of rain, sun, wind, humidity and temperature. The Long-range 12 day forecast also includes detail for Beijing weather today. Live weather reports from Beijing weather stations and weather warnings that include risk of thunder, high UV index and forecast gales. Beijing Weather Forecasts. Weather Underground provides local & long-range weather forecasts, weatherreports, maps & tropical weather conditions for the Beijing area. ... Today Tue 10/15 High 66 ... Beijing International 7 day weather forecast including weather warnings, temperature, rain, wind, visibility, humidity and UV ... Celsius (°C) Fahrenheit (°F) Wind speed units Miles per hour (mph) Kilometres per hour (km/h) ... Today. 10° 50° 4° 40° Mon 21 Oct . 12° 54° 10° 51°\u001B[0m\u001B[32;1m\u001B[1;3m Final Answer: 今天北京的气温是10摄氏度。\u001B[0m\n",
      "\n",
      "\u001B[1m> Finished chain.\u001B[0m\n"
     ]
    },
    {
     "data": {
      "text/plain": [
       "{'input': '今天北京气温有多少度？请用摄氏度来回答。', 'output': '今天北京的气温是10摄氏度。'}"
      ]
     },
     "execution_count": 51,
     "metadata": {},
     "output_type": "execute_result"
    }
   ],
   "execution_count": 51
  },
  {
   "metadata": {},
   "cell_type": "code",
   "outputs": [],
   "execution_count": null,
   "source": "",
   "id": "8b0ff2520d2f93b0"
  }
 ],
 "metadata": {
  "kernelspec": {
   "display_name": "Python 3",
   "language": "python",
   "name": "python3"
  },
  "language_info": {
   "codemirror_mode": {
    "name": "ipython",
    "version": 2
   },
   "file_extension": ".py",
   "mimetype": "text/x-python",
   "name": "python",
   "nbconvert_exporter": "python",
   "pygments_lexer": "ipython2",
   "version": "2.7.6"
  }
 },
 "nbformat": 4,
 "nbformat_minor": 5
}
