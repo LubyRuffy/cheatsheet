{
 "cells": [
  {
   "cell_type": "markdown",
   "source": [
    "# 实验：对比 tiktoken 和 sentencepiece 的效果和性能\n",
    "\n",
    "## sentencepiece 分词训练\n",
    "\n",
    "\n",
    "## faiss存储后查询效果对比\n",
    "\n",
    "## fasttext对比？\n",
    "fasttext主要是用作分类打标签的，是监督学习，不是无监督学习。不用做对比。"
   ],
   "metadata": {
    "collapsed": false
   },
   "id": "9fefc29ea7dbbd14"
  }
 ],
 "metadata": {
  "kernelspec": {
   "display_name": "Python 3",
   "language": "python",
   "name": "python3"
  },
  "language_info": {
   "codemirror_mode": {
    "name": "ipython",
    "version": 2
   },
   "file_extension": ".py",
   "mimetype": "text/x-python",
   "name": "python",
   "nbconvert_exporter": "python",
   "pygments_lexer": "ipython2",
   "version": "2.7.6"
  }
 },
 "nbformat": 4,
 "nbformat_minor": 5
}
